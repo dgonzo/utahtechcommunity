version https://git-lfs.github.com/spec/v1
oid sha256:9b4ad4c5b70fd773b1838243562de79bbfb6777ff064d896319766cfaf80800d
size 338620

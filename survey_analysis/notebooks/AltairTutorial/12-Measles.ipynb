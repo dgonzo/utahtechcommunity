version https://git-lfs.github.com/spec/v1
oid sha256:95723b812b7b42fe303787fe197b070d4b2c1c00437869b853475de3994a3a1a
size 3581297

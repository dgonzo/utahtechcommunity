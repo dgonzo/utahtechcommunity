version https://git-lfs.github.com/spec/v1
oid sha256:0cb352acf070b6213fd6cd51935af634df207d171c403c16e31abf726a425f38
size 2012

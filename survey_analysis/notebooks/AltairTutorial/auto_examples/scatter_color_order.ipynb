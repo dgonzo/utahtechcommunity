version https://git-lfs.github.com/spec/v1
oid sha256:ae054614226a85ac25f9cfe1251587ca1c5978253193524e40ec1bd5c9a7813d
size 2099

version https://git-lfs.github.com/spec/v1
oid sha256:78a20d9bf6d03de2291b81d8a5e105fd53312c9800163fe11f4b8da1b3f94ce4
size 2304

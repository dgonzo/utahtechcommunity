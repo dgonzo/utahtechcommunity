version https://git-lfs.github.com/spec/v1
oid sha256:45b8bf50835144c7e4f340bf4295aa3a72f51dbf27b265710d83c82b672eea58
size 2021

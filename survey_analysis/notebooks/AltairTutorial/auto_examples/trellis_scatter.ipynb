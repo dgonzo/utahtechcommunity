version https://git-lfs.github.com/spec/v1
oid sha256:bfd10f69cc2d7170203551017cd0d7370a1d239f02952e1257433a45533e1f5d
size 2007

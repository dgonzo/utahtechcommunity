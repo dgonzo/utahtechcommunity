version https://git-lfs.github.com/spec/v1
oid sha256:ab5317c61fbb096e62e2507aa0e3e422d687639819b6dab65d797d31a984ec57
size 2093

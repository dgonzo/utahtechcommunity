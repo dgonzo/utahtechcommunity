version https://git-lfs.github.com/spec/v1
oid sha256:8d04f98c78e40de4efd35b5240555a8ba326fdaeee9904cf44d849c826c49961
size 2066

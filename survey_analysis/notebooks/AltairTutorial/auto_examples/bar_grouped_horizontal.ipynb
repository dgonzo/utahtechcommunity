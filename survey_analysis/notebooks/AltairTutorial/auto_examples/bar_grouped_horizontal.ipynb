version https://git-lfs.github.com/spec/v1
oid sha256:be10388873b6cce203547bc98ecbdad02608b0ffd197c1f290b69ba7dee35490
size 2984

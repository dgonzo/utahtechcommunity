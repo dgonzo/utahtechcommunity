version https://git-lfs.github.com/spec/v1
oid sha256:ff847710bfa4aa869b6eeb3402f7a3bd4b070b97509329496a5599ba2602ff32
size 2037

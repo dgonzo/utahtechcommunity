version https://git-lfs.github.com/spec/v1
oid sha256:bc7a3ba36b9ee658de75158619e8778d11c0495c35439d6bbc525b377c042b22
size 2034

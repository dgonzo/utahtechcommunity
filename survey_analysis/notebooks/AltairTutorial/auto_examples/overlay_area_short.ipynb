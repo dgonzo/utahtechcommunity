version https://git-lfs.github.com/spec/v1
oid sha256:8da4e000eaa70c7b51fb8a75bd8fda2caf53b080adf2efb7d3ea0eb2148a3b60
size 2124

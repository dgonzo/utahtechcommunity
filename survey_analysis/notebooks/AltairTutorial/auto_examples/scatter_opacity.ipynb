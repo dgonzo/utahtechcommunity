version https://git-lfs.github.com/spec/v1
oid sha256:f389b0526f604a84ab869b4c5c64808feb1ddd9eab608bbae5904cfb4c9c79c7
size 2011

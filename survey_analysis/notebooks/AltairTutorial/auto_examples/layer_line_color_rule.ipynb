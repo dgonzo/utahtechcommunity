version https://git-lfs.github.com/spec/v1
oid sha256:50494496d6a06fcbf4519e4a51337694c3cb7c2fcbc9444c11faafdbdde1f592
size 2352

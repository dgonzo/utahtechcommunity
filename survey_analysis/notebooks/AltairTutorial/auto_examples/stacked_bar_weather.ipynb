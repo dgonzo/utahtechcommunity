version https://git-lfs.github.com/spec/v1
oid sha256:61c2c79da7a58de37446706291692509197d60729f906157284c9addb4d30ae9
size 2477

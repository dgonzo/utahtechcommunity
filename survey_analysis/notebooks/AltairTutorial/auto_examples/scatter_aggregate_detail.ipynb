version https://git-lfs.github.com/spec/v1
oid sha256:6b24c2ede386d2c83cb6ace2702224736b9ac240083590c9fce63d87de7b70d1
size 2122

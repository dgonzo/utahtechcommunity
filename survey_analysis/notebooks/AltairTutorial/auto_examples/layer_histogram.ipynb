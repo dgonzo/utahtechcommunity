version https://git-lfs.github.com/spec/v1
oid sha256:5afd885621e7b5023c6b52e3b8efd97aab5ca0a9b83f31fa2f81268af39e45d4
size 2461

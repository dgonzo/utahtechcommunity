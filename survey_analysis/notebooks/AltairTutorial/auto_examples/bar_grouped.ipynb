version https://git-lfs.github.com/spec/v1
oid sha256:9b924697066409c4f3650c90ab65025faeaaf484f2d64941365e19852ee1d0e0
size 2959

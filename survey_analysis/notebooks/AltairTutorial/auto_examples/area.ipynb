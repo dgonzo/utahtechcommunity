version https://git-lfs.github.com/spec/v1
oid sha256:67fa3d99d716c97f392169841fc4e69eafbc39dd11d38dd82c12448600cc635c
size 2324

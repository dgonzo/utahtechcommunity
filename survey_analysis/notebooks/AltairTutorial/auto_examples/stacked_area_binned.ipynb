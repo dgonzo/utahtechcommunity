version https://git-lfs.github.com/spec/v1
oid sha256:42d93a51c5f3dd6735e58cbec30b59cd4df627a8db0d2f08d282b0f046263f00
size 2106

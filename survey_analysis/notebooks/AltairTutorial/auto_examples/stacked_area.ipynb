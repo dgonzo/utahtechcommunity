version https://git-lfs.github.com/spec/v1
oid sha256:6ae5b1aa49bdee927a29be6e388811e4e0b320955782c96ec54b508f163ec5be
size 2535

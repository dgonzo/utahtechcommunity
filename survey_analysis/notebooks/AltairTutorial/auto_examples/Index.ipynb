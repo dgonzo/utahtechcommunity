version https://git-lfs.github.com/spec/v1
oid sha256:38be9175e86cabf321b9b20f02a112dfda65df86487226a07b871b8ead7e8e56
size 8355

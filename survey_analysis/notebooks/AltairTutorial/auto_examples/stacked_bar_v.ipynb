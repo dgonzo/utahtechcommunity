version https://git-lfs.github.com/spec/v1
oid sha256:5043b17e81057659081374fafbd78300cb43c7f70e6c99ea5c74bd8114ccff6f
size 1981

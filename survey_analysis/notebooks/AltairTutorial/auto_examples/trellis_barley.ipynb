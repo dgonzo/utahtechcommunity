version https://git-lfs.github.com/spec/v1
oid sha256:885a386038e316c43812e553d4e06e48ea071117f39108edcb7112a5251a5498
size 2553
